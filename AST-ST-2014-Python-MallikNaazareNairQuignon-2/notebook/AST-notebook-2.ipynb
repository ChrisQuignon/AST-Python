{
 "metadata": {
  "name": ""
 },
 "nbformat": 3,
 "nbformat_minor": 0,
 "worksheets": [
  {
   "cells": [
    {
     "cell_type": "heading",
     "level": 1,
     "metadata": {},
     "source": [
      "Attributes/Fields, Instance Variables, Class Variables"
     ]
    },
    {
     "cell_type": "heading",
     "level": 1,
     "metadata": {},
     "source": [
      "Types"
     ]
    },
    {
     "cell_type": "code",
     "collapsed": false,
     "input": [
      "def whichtype(anytype):\n",
      "  if isinstance(anytype, str):\n",
      "    return (map((lambda x : x*2), anytype))\n",
      "  elif isinstance(anytype, dict):\n",
      "    return anytype\n",
      "  elif isinstance(anytype, int):\n",
      "    return anytype, anytype\n",
      "  else:\n",
      "    pass\n",
      "\n",
      "for i in ['String', {0:'3'}, 4, (lambda x : x)]:\n",
      "    print type(whichtype(i))"
     ],
     "language": "python",
     "metadata": {},
     "outputs": [
      {
       "output_type": "stream",
       "stream": "stdout",
       "text": [
        "<type 'list'>\n",
        "<type 'dict'>\n",
        "<type 'tuple'>\n",
        "<type 'NoneType'>\n"
       ]
      }
     ],
     "prompt_number": 307
    },
    {
     "cell_type": "code",
     "collapsed": false,
     "input": [
      "def pick(l: list, index: int) -> int:\n",
      "    print \"Welcome to 3.0\"\n",
      "    #http://legacy.python.org/dev/peps/pep-3107/\n",
      "    return l[index]"
     ],
     "language": "python",
     "metadata": {},
     "outputs": [
      {
       "ename": "SyntaxError",
       "evalue": "invalid syntax (<ipython-input-292-f9571d8d8cae>, line 1)",
       "output_type": "pyerr",
       "traceback": [
        "\u001b[1;36m  File \u001b[1;32m\"<ipython-input-292-f9571d8d8cae>\"\u001b[1;36m, line \u001b[1;32m1\u001b[0m\n\u001b[1;33m    def pick(l: list, index: int) -> int:\u001b[0m\n\u001b[1;37m              ^\u001b[0m\n\u001b[1;31mSyntaxError\u001b[0m\u001b[1;31m:\u001b[0m invalid syntax\n"
       ]
      }
     ],
     "prompt_number": 292
    },
    {
     "cell_type": "heading",
     "level": 1,
     "metadata": {},
     "source": [
      "Methods"
     ]
    },
    {
     "cell_type": "code",
     "collapsed": false,
     "input": [
      "a = [1, 2, 3]\n",
      "a.reverse()\n",
      "print a"
     ],
     "language": "python",
     "metadata": {},
     "outputs": [
      {
       "output_type": "stream",
       "stream": "stdout",
       "text": [
        "[3, 2, 1]\n"
       ]
      }
     ],
     "prompt_number": 7
    },
    {
     "cell_type": "heading",
     "level": 1,
     "metadata": {},
     "source": [
      "Arguments"
     ]
    },
    {
     "cell_type": "code",
     "collapsed": false,
     "input": [
      "def f( p, keyword='default', *positional, **optional):\n",
      "    print p\n",
      "    print keyword\n",
      "    print 'positional:', positional\n",
      "    print 'optional:', optional\n",
      "    \n",
      "f(1, 'not default', 3, 4, 5, x = 9, )"
     ],
     "language": "python",
     "metadata": {},
     "outputs": [
      {
       "output_type": "stream",
       "stream": "stdout",
       "text": [
        "1\n",
        "not default\n",
        "positional: (3, 4, 5)\n",
        "optional: {'x': 9}\n"
       ]
      }
     ],
     "prompt_number": 8
    },
    {
     "cell_type": "heading",
     "level": 1,
     "metadata": {},
     "source": [
      "Return and Assign"
     ]
    },
    {
     "cell_type": "code",
     "collapsed": false,
     "input": [
      "def nonsens_calc(a, b, c=0, d=0):\n",
      "    if a == 2:\n",
      "        return \"Nonsens\"\n",
      "    return a + (b**2) + c + d\n",
      "print nonsens_calc(2, 3, d=-4)"
     ],
     "language": "python",
     "metadata": {},
     "outputs": [
      {
       "output_type": "stream",
       "stream": "stdout",
       "text": [
        "Nonsens\n"
       ]
      }
     ],
     "prompt_number": 337
    },
    {
     "cell_type": "code",
     "collapsed": false,
     "input": [
      "def n():\n",
      "    return 2, 'b', {0:'3'}, (lambda x : x)\n",
      "\n",
      "for idx, _ in enumerate(n()):\n",
      "    print _\n",
      "print ''\n",
      "print \"Performed by professional amateur.\"\n",
      "print \"Don't try this on the job.\""
     ],
     "language": "python",
     "metadata": {},
     "outputs": [
      {
       "output_type": "stream",
       "stream": "stdout",
       "text": [
        "<function <lambda> at 0x3771488>\n",
        "<function <lambda> at 0x3771488>\n",
        "<function <lambda> at 0x3771488>\n",
        "<function <lambda> at 0x3771488>\n",
        "\n",
        "Performed by professional amateur.\n",
        "Don't try this on the job.\n"
       ]
      }
     ],
     "prompt_number": 355
    },
    {
     "cell_type": "heading",
     "level": 1,
     "metadata": {},
     "source": [
      "Polymorphism"
     ]
    },
    {
     "cell_type": "code",
     "collapsed": false,
     "input": [
      "def two_to_one(a, b):\n",
      "    return a + b\n",
      "print two_to_one(1, 2)\n",
      "print two_to_one('1', '2')"
     ],
     "language": "python",
     "metadata": {},
     "outputs": [
      {
       "output_type": "stream",
       "stream": "stdout",
       "text": [
        "3\n",
        "12\n"
       ]
      }
     ],
     "prompt_number": 338
    },
    {
     "cell_type": "heading",
     "level": 1,
     "metadata": {},
     "source": [
      "Inheritance and Overwriting"
     ]
    },
    {
     "cell_type": "code",
     "collapsed": false,
     "input": [
      "class GoedelName(str): #Inherits str\n",
      "    #__doc__ function:\n",
      "    \"\"\"This is a goedel name. It is the sum of the order of all its characters\"\"\"\n",
      "    \n",
      "    #__new__ instead of __init__ because str are immutable\n",
      "    def __new__(cls, name):\n",
      "        new = str.__new__(cls, name)\n",
      "        new.goedel_value = sum(map(ord, name))\n",
      "        return new \n",
      "    \n",
      "    #overloads <\n",
      "    def __lt__(self, other):\n",
      "        return self.goedel_value < other.goedel_value\n",
      "    \n",
      "    def __gt__(self, other):\n",
      "        #TODO: implement\n",
      "        pass\n",
      "    \n",
      "    #Iterator\n",
      "    def __iter__(self):\n",
      "        #I'll explain after the talk if you want...\n",
      "        char_list = map(ord, str(self))\n",
      "        s = sorted(xrange(len(char_list)),key=lambda x:char_list[x])\n",
      "        \n",
      "        #Generator\n",
      "        for i in reversed(s):\n",
      "            yield self[i]"
     ],
     "language": "python",
     "metadata": {},
     "outputs": [],
     "prompt_number": 170
    },
    {
     "cell_type": "code",
     "collapsed": false,
     "input": [
      "GoedelName?"
     ],
     "language": "python",
     "metadata": {},
     "outputs": [],
     "prompt_number": 171
    },
    {
     "cell_type": "code",
     "collapsed": false,
     "input": [
      "print type(GoedelName)"
     ],
     "language": "python",
     "metadata": {},
     "outputs": [
      {
       "output_type": "stream",
       "stream": "stdout",
       "text": [
        "<type 'type'>\n"
       ]
      }
     ],
     "prompt_number": 318
    },
    {
     "cell_type": "code",
     "collapsed": false,
     "input": [
      "l = [GoedelName('Mallik'), GoedelName('Naazare'), GoedelName('Nair'), GoedelName('Quignon')]\n",
      "l.sort()\n",
      "for i in l:\n",
      "    print i#, i.goedel_value"
     ],
     "language": "python",
     "metadata": {},
     "outputs": [
      {
       "output_type": "stream",
       "stream": "stdout",
       "text": [
        "Nair\n",
        "Mallik\n",
        "Naazare\n",
        "Quignon\n"
       ]
      }
     ],
     "prompt_number": 336
    },
    {
     "cell_type": "code",
     "collapsed": false,
     "input": [
      "for i in l[-1]:\n",
      "    print ord(i), i"
     ],
     "language": "python",
     "metadata": {},
     "outputs": [
      {
       "output_type": "stream",
       "stream": "stdout",
       "text": [
        "117 u\n",
        "111 o\n",
        "110 n\n",
        "110 n\n",
        "105 i\n",
        "103 g\n",
        "81 Q\n"
       ]
      }
     ],
     "prompt_number": 222
    },
    {
     "cell_type": "heading",
     "level": 1,
     "metadata": {},
     "source": [
      "non-primitive data types:"
     ]
    },
    {
     "cell_type": "heading",
     "level": 2,
     "metadata": {},
     "source": [
      "Lists"
     ]
    },
    {
     "cell_type": "markdown",
     "metadata": {},
     "source": [
      "* Python knows a number of compound data types, used to group together other values.\n",
      "\n",
      "* The most versatile is the list, which can be written as a list of comma-separated values (items) between square brackets. \n",
      "\n",
      "* List items need not all have the same type."
     ]
    },
    {
     "cell_type": "code",
     "collapsed": false,
     "input": [
      "a = ['spam', 'eggs', 100, 1234]\n",
      "a"
     ],
     "language": "python",
     "metadata": {},
     "outputs": [
      {
       "metadata": {},
       "output_type": "pyout",
       "prompt_number": 1,
       "text": [
        "['spam', 'eggs', 100, 1234]"
       ]
      }
     ],
     "prompt_number": 1
    },
    {
     "cell_type": "markdown",
     "metadata": {},
     "source": [
      "All slice operations return a new list containing the requested elements. This means that the following slice returns a shallow copy of the list a:"
     ]
    },
    {
     "cell_type": "code",
     "collapsed": false,
     "input": [
      "a[:]"
     ],
     "language": "python",
     "metadata": {},
     "outputs": [
      {
       "metadata": {},
       "output_type": "pyout",
       "prompt_number": 2,
       "text": [
        "['spam', 'eggs', 100, 1234]"
       ]
      }
     ],
     "prompt_number": 2
    },
    {
     "cell_type": "markdown",
     "metadata": {},
     "source": [
      "Unlike strings, which are immutable, it is possible to change individual elements of a list:"
     ]
    },
    {
     "cell_type": "code",
     "collapsed": false,
     "input": [
      "a[2] = a[2] + 23\n",
      "a"
     ],
     "language": "python",
     "metadata": {},
     "outputs": [
      {
       "metadata": {},
       "output_type": "pyout",
       "prompt_number": 5,
       "text": [
        "['spam', 'eggs', 169, 1234]"
       ]
      }
     ],
     "prompt_number": 5
    },
    {
     "cell_type": "heading",
     "level": 3,
     "metadata": {},
     "source": [
      "An example that uses most of the list methods:"
     ]
    },
    {
     "cell_type": "code",
     "collapsed": false,
     "input": [
      "a = [66.25, 333, 333, 1, 1234.5]\n",
      "print a.count(333), a.count(66.25), a.count('x')"
     ],
     "language": "python",
     "metadata": {},
     "outputs": []
    },
    {
     "cell_type": "code",
     "collapsed": false,
     "input": [
      "a.insert(2, -1)\n",
      "a.append(333)\n",
      "a"
     ],
     "language": "python",
     "metadata": {},
     "outputs": []
    },
    {
     "cell_type": "code",
     "collapsed": false,
     "input": [
      "a.index(333)"
     ],
     "language": "python",
     "metadata": {},
     "outputs": []
    },
    {
     "cell_type": "code",
     "collapsed": false,
     "input": [
      "a.remove(333)\n",
      "a"
     ],
     "language": "python",
     "metadata": {},
     "outputs": []
    },
    {
     "cell_type": "code",
     "collapsed": false,
     "input": [
      "a.reverse()\n",
      "a"
     ],
     "language": "python",
     "metadata": {},
     "outputs": []
    },
    {
     "cell_type": "code",
     "collapsed": false,
     "input": [
      "a.sort()\n",
      "a"
     ],
     "language": "python",
     "metadata": {},
     "outputs": []
    },
    {
     "cell_type": "heading",
     "level": 2,
     "metadata": {},
     "source": [
      "List Comprehensions"
     ]
    },
    {
     "cell_type": "markdown",
     "metadata": {},
     "source": [
      "List comprehensions provide a concise way to create lists. Common applications are to make new lists where each element is the result of some operations applied to each member of another sequence or iterable, or to create a subsequence of those elements that satisfy a certain condition.\n",
      "\n",
      "For example, assume we want to create a list of squares, like:\n"
     ]
    },
    {
     "cell_type": "code",
     "collapsed": false,
     "input": [
      "squares = []\n",
      "for x in range(10):\n",
      "     squares.append(x**2)\n",
      "        \n",
      "squares"
     ],
     "language": "python",
     "metadata": {},
     "outputs": []
    },
    {
     "cell_type": "markdown",
     "metadata": {},
     "source": [
      "This can be done as :"
     ]
    },
    {
     "cell_type": "code",
     "collapsed": false,
     "input": [
      "squares = [x**2 for x in range(10)]"
     ],
     "language": "python",
     "metadata": {},
     "outputs": []
    },
    {
     "cell_type": "code",
     "collapsed": false,
     "input": [
      "squares = map(lambda x: x**2, range(10))"
     ],
     "language": "python",
     "metadata": {},
     "outputs": []
    },
    {
     "cell_type": "heading",
     "level": 2,
     "metadata": {},
     "source": [
      "Sets"
     ]
    },
    {
     "cell_type": "heading",
     "level": 3,
     "metadata": {},
     "source": [
      " Demonstrate set operations on unique letters from two words"
     ]
    },
    {
     "cell_type": "code",
     "collapsed": false,
     "input": [
      "a = set('abracadabra')\n",
      "b = set('alacazam')\n",
      "a                                  # unique letters in a"
     ],
     "language": "python",
     "metadata": {},
     "outputs": []
    },
    {
     "cell_type": "code",
     "collapsed": false,
     "input": [
      " a ^ b                              # letters in a or b but not both"
     ],
     "language": "python",
     "metadata": {},
     "outputs": []
    },
    {
     "cell_type": "code",
     "collapsed": false,
     "input": [
      "a & b                              # letters in both a and b"
     ],
     "language": "python",
     "metadata": {},
     "outputs": []
    },
    {
     "cell_type": "code",
     "collapsed": false,
     "input": [
      "a | b                              # letters in either a or b"
     ],
     "language": "python",
     "metadata": {},
     "outputs": []
    },
    {
     "cell_type": "code",
     "collapsed": false,
     "input": [
      "a - b                              # letters in a but not in b"
     ],
     "language": "python",
     "metadata": {},
     "outputs": []
    },
    {
     "cell_type": "heading",
     "level": 2,
     "metadata": {},
     "source": [
      "Dictionary"
     ]
    },
    {
     "cell_type": "code",
     "collapsed": false,
     "input": [
      "tel = {'jack': 4098, 'sape': 4139}\n",
      "tel['guido'] = 4127\n",
      "tel"
     ],
     "language": "python",
     "metadata": {},
     "outputs": []
    },
    {
     "cell_type": "code",
     "collapsed": false,
     "input": [
      "tel['jack']"
     ],
     "language": "python",
     "metadata": {},
     "outputs": []
    },
    {
     "cell_type": "code",
     "collapsed": false,
     "input": [
      "del tel['sape']\n",
      "tel['irv'] = 4127\n",
      "tel"
     ],
     "language": "python",
     "metadata": {},
     "outputs": []
    },
    {
     "cell_type": "code",
     "collapsed": false,
     "input": [
      "tel.keys()\n",
      "'guido' in tel"
     ],
     "language": "python",
     "metadata": {},
     "outputs": []
    },
    {
     "cell_type": "markdown",
     "metadata": {},
     "source": [
      "The dict() constructor builds dictionaries directly from sequences of key-value pairs:"
     ]
    },
    {
     "cell_type": "code",
     "collapsed": false,
     "input": [
      "dict([('sape', 4139), ('guido', 4127), ('jack', 4098)])"
     ],
     "language": "python",
     "metadata": {},
     "outputs": []
    },
    {
     "cell_type": "markdown",
     "metadata": {},
     "source": [
      "In addition, dict comprehensions can be used to create dictionaries from arbitrary key and value expressions:"
     ]
    },
    {
     "cell_type": "code",
     "collapsed": false,
     "input": [
      "{x: x**2 for x in (2, 4, 6)}"
     ],
     "language": "python",
     "metadata": {},
     "outputs": []
    },
    {
     "cell_type": "markdown",
     "metadata": {},
     "source": [
      "When the keys are simple strings, it is sometimes easier to specify pairs using keyword arguments:"
     ]
    },
    {
     "cell_type": "code",
     "collapsed": false,
     "input": [
      "dict(sape=4139, guido=4127, jack=4098)"
     ],
     "language": "python",
     "metadata": {},
     "outputs": []
    },
    {
     "cell_type": "heading",
     "level": 1,
     "metadata": {},
     "source": [
      "Generic data types"
     ]
    },
    {
     "cell_type": "code",
     "collapsed": false,
     "input": [
      "class MyClass:\n",
      "    def __init__(self):\n",
      "        pass\n",
      "\n",
      "class BinaryTree:\n",
      "    def __init__(self, left, right):\n",
      "        self.left, self.right = left, right\n",
      "        \n",
      "branch1 = BinaryTree(1,2)\n",
      "myitem = MyClass()\n",
      "branch2 = BinaryTree(myitem, None)\n",
      "tree = BinaryTree(branch1, branch2)"
     ],
     "language": "python",
     "metadata": {},
     "outputs": [],
     "prompt_number": 8
    },
    {
     "cell_type": "code",
     "collapsed": false,
     "input": [],
     "language": "python",
     "metadata": {},
     "outputs": []
    }
   ],
   "metadata": {}
  }
 ]
}