{
 "metadata": {
  "name": ""
 },
 "nbformat": 3,
 "nbformat_minor": 0,
 "worksheets": [
  {
   "cells": [
    {
     "cell_type": "heading",
     "level": 1,
     "metadata": {},
     "source": [
      "Attributes/Fields, Instance Variables, Class Variables"
     ]
    },
    {
     "cell_type": "heading",
     "level": 1,
     "metadata": {},
     "source": [
      "Methods"
     ]
    },
    {
     "cell_type": "heading",
     "level": 1,
     "metadata": {},
     "source": [
      "Types"
     ]
    },
    {
     "cell_type": "code",
     "collapsed": false,
     "input": [
      "def whichtype(anytype):\n",
      "  if isinstance(anytype, str):\n",
      "    return (map((lambda x : x*2), anytype))\n",
      "  elif isinstance(anytype, dict):\n",
      "    return anytype\n",
      "  elif isinstance(anytype, int):\n",
      "    return anytype, anytype\n",
      "  else:\n",
      "    pass\n",
      "\n",
      "for i in ['String', {0:'3'}, 4, (lambda x : x)]:\n",
      "    print type(whichtype(i))"
     ],
     "language": "python",
     "metadata": {},
     "outputs": [
      {
       "output_type": "stream",
       "stream": "stdout",
       "text": [
        "<type 'list'>\n",
        "<type 'dict'>\n",
        "<type 'tuple'>\n",
        "<type 'NoneType'>\n"
       ]
      }
     ],
     "prompt_number": 307
    },
    {
     "cell_type": "code",
     "collapsed": false,
     "input": [
      "def pick(l: list, index: int) -> int:\n",
      "    print \"Welcome to 3.0\"\n",
      "    #http://legacy.python.org/dev/peps/pep-3107/\n",
      "    return l[index]"
     ],
     "language": "python",
     "metadata": {},
     "outputs": [
      {
       "ename": "SyntaxError",
       "evalue": "invalid syntax (<ipython-input-292-f9571d8d8cae>, line 1)",
       "output_type": "pyerr",
       "traceback": [
        "\u001b[1;36m  File \u001b[1;32m\"<ipython-input-292-f9571d8d8cae>\"\u001b[1;36m, line \u001b[1;32m1\u001b[0m\n\u001b[1;33m    def pick(l: list, index: int) -> int:\u001b[0m\n\u001b[1;37m              ^\u001b[0m\n\u001b[1;31mSyntaxError\u001b[0m\u001b[1;31m:\u001b[0m invalid syntax\n"
       ]
      }
     ],
     "prompt_number": 292
    },
    {
     "cell_type": "heading",
     "level": 1,
     "metadata": {},
     "source": [
      "Arguments"
     ]
    },
    {
     "cell_type": "code",
     "collapsed": false,
     "input": [
      "def f( p, keyword='default', *positional, **optional):\n",
      "    print p\n",
      "    print keyword\n",
      "    print 'positional:', positional\n",
      "    print 'optional:', optional\n",
      "    \n",
      "f(1, 'not default', 3, 4, 5, x = 9, )"
     ],
     "language": "python",
     "metadata": {},
     "outputs": [
      {
       "ename": "TypeError",
       "evalue": "'NoneType' object is not iterable",
       "output_type": "pyerr",
       "traceback": [
        "\u001b[1;31m---------------------------------------------------------------------------\u001b[0m\n\u001b[1;31mTypeError\u001b[0m                                 Traceback (most recent call last)",
        "\u001b[1;32m<ipython-input-358-bb2137e286b7>\u001b[0m in \u001b[0;36m<module>\u001b[1;34m()\u001b[0m\n\u001b[0;32m      5\u001b[0m     \u001b[1;32mprint\u001b[0m \u001b[1;34m'optional:'\u001b[0m\u001b[1;33m,\u001b[0m \u001b[0moptional\u001b[0m\u001b[1;33m\u001b[0m\u001b[0m\n\u001b[0;32m      6\u001b[0m \u001b[1;33m\u001b[0m\u001b[0m\n\u001b[1;32m----> 7\u001b[1;33m \u001b[1;32mfor\u001b[0m \u001b[0mi\u001b[0m \u001b[1;32min\u001b[0m \u001b[0mf\u001b[0m\u001b[1;33m(\u001b[0m\u001b[1;36m1\u001b[0m\u001b[1;33m,\u001b[0m \u001b[1;34m'not default'\u001b[0m\u001b[1;33m,\u001b[0m \u001b[1;36m3\u001b[0m\u001b[1;33m,\u001b[0m \u001b[1;36m4\u001b[0m\u001b[1;33m,\u001b[0m \u001b[1;36m5\u001b[0m\u001b[1;33m,\u001b[0m \u001b[0mx\u001b[0m \u001b[1;33m=\u001b[0m \u001b[1;36m9\u001b[0m\u001b[1;33m,\u001b[0m \u001b[1;33m)\u001b[0m\u001b[1;33m:\u001b[0m\u001b[1;33m\u001b[0m\u001b[0m\n\u001b[0m\u001b[0;32m      8\u001b[0m     \u001b[1;32mprint\u001b[0m \u001b[0mi\u001b[0m\u001b[1;33m\u001b[0m\u001b[0m\n",
        "\u001b[1;31mTypeError\u001b[0m: 'NoneType' object is not iterable"
       ]
      },
      {
       "output_type": "stream",
       "stream": "stdout",
       "text": [
        "1\n",
        "not default\n",
        "positional: (3, 4, 5)\n",
        "optional: {'x': 9}\n"
       ]
      }
     ],
     "prompt_number": 358
    },
    {
     "cell_type": "heading",
     "level": 1,
     "metadata": {},
     "source": [
      "Return and Assign"
     ]
    },
    {
     "cell_type": "code",
     "collapsed": false,
     "input": [
      "def nonsens_calc(a, b, c=0, d=0):\n",
      "    if a == 2:\n",
      "        return \"Nonsens\"\n",
      "    return a + (b**2) + c + d\n",
      "print nonsens_calc(2, 3, d=-4)"
     ],
     "language": "python",
     "metadata": {},
     "outputs": [
      {
       "output_type": "stream",
       "stream": "stdout",
       "text": [
        "Nonsens\n"
       ]
      }
     ],
     "prompt_number": 337
    },
    {
     "cell_type": "code",
     "collapsed": false,
     "input": [
      "def n():\n",
      "    return 2, 'b', {0:'3'}, (lambda x : x)\n",
      "\n",
      "for idx, _ in enumerate(n()):\n",
      "    print _\n",
      "print ''\n",
      "print \"Performed by professional amateur.\"\n",
      "print \"Don't try this on the job.\""
     ],
     "language": "python",
     "metadata": {},
     "outputs": [
      {
       "output_type": "stream",
       "stream": "stdout",
       "text": [
        "<function <lambda> at 0x3771488>\n",
        "<function <lambda> at 0x3771488>\n",
        "<function <lambda> at 0x3771488>\n",
        "<function <lambda> at 0x3771488>\n",
        "\n",
        "Performed by professional amateur.\n",
        "Don't try this on the job.\n"
       ]
      }
     ],
     "prompt_number": 355
    },
    {
     "cell_type": "heading",
     "level": 1,
     "metadata": {},
     "source": [
      "Inheritance and Overwriting"
     ]
    },
    {
     "cell_type": "code",
     "collapsed": false,
     "input": [
      "class GoedelName(str): #Inherits str\n",
      "    #__doc__ function:\n",
      "    \"\"\"This is a goedel name. It is the sum of the order of all its characters\"\"\"\n",
      "    \n",
      "    #__new__ instead of __init__ because str are immutable\n",
      "    def __new__(cls, name):\n",
      "        new = str.__new__(cls, name)\n",
      "        new.goedel_value = sum(map(ord, name))\n",
      "        return new \n",
      "    \n",
      "    #overloads <\n",
      "    def __lt__(self, other):\n",
      "        return self.goedel_value < other.goedel_value\n",
      "    \n",
      "    def __gt__(self, other):\n",
      "        #TODO: implement\n",
      "        pass\n",
      "    \n",
      "    #Iterator\n",
      "    def __iter__(self):\n",
      "        #I'll explain after the talk if you want...\n",
      "        char_list = map(ord, str(self))\n",
      "        s = sorted(xrange(len(char_list)),key=lambda x:char_list[x])\n",
      "        \n",
      "        #Generator\n",
      "        for i in reversed(s):\n",
      "            yield self[i]"
     ],
     "language": "python",
     "metadata": {},
     "outputs": [],
     "prompt_number": 170
    },
    {
     "cell_type": "code",
     "collapsed": false,
     "input": [
      "GoedelName?"
     ],
     "language": "python",
     "metadata": {},
     "outputs": [],
     "prompt_number": 171
    },
    {
     "cell_type": "code",
     "collapsed": false,
     "input": [
      "print type(GoedelName)"
     ],
     "language": "python",
     "metadata": {},
     "outputs": [
      {
       "output_type": "stream",
       "stream": "stdout",
       "text": [
        "<type 'type'>\n"
       ]
      }
     ],
     "prompt_number": 318
    },
    {
     "cell_type": "code",
     "collapsed": false,
     "input": [
      "l = [GoedelName('Mallik'), GoedelName('Naazare'), GoedelName('Nair'), GoedelName('Quignon')]\n",
      "l.sort()\n",
      "for i in l:\n",
      "    print i#, i.goedel_value"
     ],
     "language": "python",
     "metadata": {},
     "outputs": [
      {
       "output_type": "stream",
       "stream": "stdout",
       "text": [
        "Nair\n",
        "Mallik\n",
        "Naazare\n",
        "Quignon\n"
       ]
      }
     ],
     "prompt_number": 336
    },
    {
     "cell_type": "code",
     "collapsed": false,
     "input": [
      "for i in l[-1]:\n",
      "    print ord(i), i"
     ],
     "language": "python",
     "metadata": {},
     "outputs": [
      {
       "output_type": "stream",
       "stream": "stdout",
       "text": [
        "117 u\n",
        "111 o\n",
        "110 n\n",
        "110 n\n",
        "105 i\n",
        "103 g\n",
        "81 Q\n"
       ]
      }
     ],
     "prompt_number": 222
    },
    {
     "cell_type": "heading",
     "level": 1,
     "metadata": {},
     "source": [
      "Polymorphism"
     ]
    },
    {
     "cell_type": "code",
     "collapsed": false,
     "input": [
      "def two_to_one(a, b):\n",
      "    return a + b\n",
      "print two_to_one(1, 2)\n",
      "print two_to_one('1', '2')"
     ],
     "language": "python",
     "metadata": {},
     "outputs": [
      {
       "output_type": "stream",
       "stream": "stdout",
       "text": [
        "3\n",
        "12\n"
       ]
      }
     ],
     "prompt_number": 338
    },
    {
     "cell_type": "heading",
     "level": 1,
     "metadata": {},
     "source": [
      "non-primitive data types: vectors, arrays, lists, enumerations, sets, maps, trees, graphs"
     ]
    },
    {
     "cell_type": "heading",
     "level": 1,
     "metadata": {},
     "source": [
      "generic data types"
     ]
    }
   ],
   "metadata": {}
  }
 ]
}