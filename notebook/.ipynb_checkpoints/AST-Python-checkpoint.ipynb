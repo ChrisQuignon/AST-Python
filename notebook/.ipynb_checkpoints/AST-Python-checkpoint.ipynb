{
 "metadata": {
  "name": ""
 },
 "nbformat": 3,
 "nbformat_minor": 0,
 "worksheets": [
  {
   "cells": [
    {
     "cell_type": "heading",
     "level": 1,
     "metadata": {},
     "source": [
      "Expressions and Precedence"
     ]
    },
    {
     "cell_type": "code",
     "collapsed": false,
     "input": [
      "(lambda x : x + 2)(5)"
     ],
     "language": "python",
     "metadata": {},
     "outputs": [
      {
       "metadata": {},
       "output_type": "pyout",
       "prompt_number": 1,
       "text": [
        "7"
       ]
      }
     ],
     "prompt_number": 1
    },
    {
     "cell_type": "code",
     "collapsed": false,
     "input": [
      "name_to_number = (lambda n : sum(map(ord, n)))\n",
      "name_to_number('John Doe')"
     ],
     "language": "python",
     "metadata": {},
     "outputs": [
      {
       "metadata": {},
       "output_type": "pyout",
       "prompt_number": 2,
       "text": [
        "711"
       ]
      }
     ],
     "prompt_number": 2
    },
    {
     "cell_type": "code",
     "collapsed": false,
     "input": [
      "2 ** 2 ** 2 ** 2"
     ],
     "language": "python",
     "metadata": {},
     "outputs": [],
     "prompt_number": "*"
    },
    {
     "cell_type": "code",
     "collapsed": false,
     "input": [
      "3 < 4 < True ==  (3<4)and(4 < True)"
     ],
     "language": "python",
     "metadata": {},
     "outputs": [],
     "prompt_number": "*"
    },
    {
     "cell_type": "code",
     "collapsed": false,
     "input": [
      "x = 1\n",
      "y = x = 2\n",
      "x"
     ],
     "language": "python",
     "metadata": {},
     "outputs": [],
     "prompt_number": "*"
    },
    {
     "cell_type": "code",
     "collapsed": false,
     "input": [
      " '1' in '11' == True"
     ],
     "language": "python",
     "metadata": {},
     "outputs": [],
     "prompt_number": "*"
    },
    {
     "cell_type": "heading",
     "level": 1,
     "metadata": {},
     "source": [
      "Primitive Data Types Examples\n"
     ]
    },
    {
     "cell_type": "code",
     "collapsed": false,
     "input": [
      "import sys\n",
      "import decimal\n",
      "\n",
      "d = {\n",
      "    \"int\": 0,\n",
      "    \"float\": 0.0,\n",
      "    \"dict\": dict(),\n",
      "    \"set\": set(),\n",
      "    \"tuple\": tuple(),\n",
      "    \"list\": list(),\n",
      "    \"str\": \"a\",\n",
      "    \"unicode\": u\"a\",\n",
      "    \"decimal\": decimal.Decimal(0),\n",
      "    \"object\": object(),\n",
      "}\n",
      "for k, v in sorted(d.iteritems()):\n",
      "    print k, sys.getsizeof(v)"
     ],
     "language": "python",
     "metadata": {},
     "outputs": [
      {
       "output_type": "stream",
       "stream": "stdout",
       "text": [
        "decimal 80\n",
        "dict 280\n",
        "float 24\n",
        "int 24\n",
        "list 72\n",
        "object 16\n",
        "set 232\n",
        "str 38\n",
        "tuple 56\n",
        "unicode 56\n"
       ]
      }
     ],
     "prompt_number": 1
    },
    {
     "cell_type": "code",
     "collapsed": false,
     "input": [
      "#Example of Boolean \n",
      "print bool(True)\n",
      "print bool(\"text\")\n",
      "print bool(0)"
     ],
     "language": "python",
     "metadata": {},
     "outputs": [],
     "prompt_number": "*"
    },
    {
     "cell_type": "code",
     "collapsed": false,
     "input": [
      "#Example of Float Integer calculations\n",
      "a = 9.8\n",
      "b = 600\n",
      "c = a/b\n",
      "print \"a:\", a, \"b:\", b, \"c:\", c"
     ],
     "language": "python",
     "metadata": {},
     "outputs": [],
     "prompt_number": "*"
    },
    {
     "cell_type": "code",
     "collapsed": false,
     "input": [
      "#Example of String Printing styles\n",
      "a = \"Python\"\n",
      "b = 'is '\n",
      "c = \"\"\"\n",
      "E\n",
      "A\n",
      "S\n",
      "Y\n",
      "\"\"\"\n",
      "\n",
      "print a\n",
      "print b\n",
      "print c\n",
      "print b * 5"
     ],
     "language": "python",
     "metadata": {},
     "outputs": [],
     "prompt_number": "*"
    },
    {
     "cell_type": "code",
     "collapsed": false,
     "input": [
      "#Example of Tuple\n",
      "first = (1, 2, 3)\n",
      "second = (4, 5, 6)\n",
      "\n",
      "print \"len(first) : \", len(first)\n",
      "print \"max(first) : \", max(first)\n",
      "print \"min(first) : \", min(first)\n",
      "print \"first + second :\", first + second\n",
      "print \"first * 3 : \", first * 3\n",
      "print \"1 in first : \", 1 in first\n",
      "print \"5 not in second : \", 5 not in second\n",
      "print first[1:4]"
     ],
     "language": "python",
     "metadata": {},
     "outputs": [],
     "prompt_number": "*"
    },
    {
     "cell_type": "code",
     "collapsed": false,
     "input": [
      "#Example of List\n",
      "num = [0, 2, 5, 4, 6, 7]\n",
      "\n",
      "print num[0]\n",
      "print num[2:]\n",
      "print len(num)\n",
      "print num + [8, 9]"
     ],
     "language": "python",
     "metadata": {},
     "outputs": [],
     "prompt_number": "*"
    },
    {
     "cell_type": "code",
     "collapsed": false,
     "input": [
      "#Example of Dictionaries\n",
      "words = { 'girl': 'Maedchen', 'house': 'Haus', 'death': 'Tod' }\n",
      "print words['house']\n",
      "print words.keys()\n",
      "print words.values()\n",
      "print words.items()"
     ],
     "language": "python",
     "metadata": {},
     "outputs": [],
     "prompt_number": "*"
    },
    {
     "cell_type": "code",
     "collapsed": false,
     "input": [
      "#Interesting Code Snippet on mutable non-mutable data-type\n",
      "def append_to_sequence (myseq):\n",
      "    myseq += (9,9,9)\n",
      "    return myseq\n",
      "\n",
      "t=(1,2,3)     # tuples are immutable\n",
      "l=[1,2,3]     # lists are mutable\n",
      "\n",
      "u=append_to_sequence(t)\n",
      "m=append_to_sequence(l)\n",
      "\n",
      "print('t = ', t)\n",
      "print('u = ', u)\n",
      "print('l = ', l)\n",
      "print('m = ', m)"
     ],
     "language": "python",
     "metadata": {},
     "outputs": [],
     "prompt_number": "*"
    },
    {
     "cell_type": "heading",
     "level": 1,
     "metadata": {},
     "source": [
      "IF, ELIF and ELSE statements  "
     ]
    },
    {
     "cell_type": "code",
     "collapsed": false,
     "input": [
      "# if, elif and else statements\n",
      "x = int(raw_input(\"Please input number : \" ))\n",
      "\n",
      "if x < 0 :\n",
      "    print \"Negative Number\"\n",
      "elif x==0 :    #any number of elif \n",
      "    print 'ZERO'\n",
      "else :         #(optional)\n",
      "    print 'Positive Number'\n",
      "    \n"
     ],
     "language": "python",
     "metadata": {},
     "outputs": [],
     "prompt_number": "*"
    },
    {
     "cell_type": "heading",
     "level": 1,
     "metadata": {},
     "source": [
      "For LOOP"
     ]
    },
    {
     "cell_type": "code",
     "collapsed": false,
     "input": [
      "#For loop with range()\n",
      "for i in range(3) : \n",
      "    print i\n",
      "#range() iterator\n",
      "print range(1,5)"
     ],
     "language": "python",
     "metadata": {},
     "outputs": [],
     "prompt_number": "*"
    },
    {
     "cell_type": "heading",
     "level": 1,
     "metadata": {},
     "source": [
      "While Loop"
     ]
    },
    {
     "cell_type": "code",
     "collapsed": false,
     "input": [
      "#while loop\n",
      "while (x < 3): \n",
      "    print x\n",
      "    x = x+1    "
     ],
     "language": "python",
     "metadata": {},
     "outputs": [],
     "prompt_number": "*"
    },
    {
     "cell_type": "heading",
     "level": 1,
     "metadata": {},
     "source": [
      "Pass, Continue and Break"
     ]
    },
    {
     "cell_type": "code",
     "collapsed": false,
     "input": [
      "#pass, continue and break\n",
      "for x in range(16) :\n",
      "    if (x == 5):\n",
      "        pass\n",
      "    elif (x==10):\n",
      "        print x\n",
      "        continue\n",
      "    elif (x == 12):\n",
      "        print x\n",
      "        break"
     ],
     "language": "python",
     "metadata": {},
     "outputs": [],
     "prompt_number": "*"
    },
    {
     "cell_type": "heading",
     "level": 1,
     "metadata": {},
     "source": [
      "Exception Handling"
     ]
    },
    {
     "cell_type": "heading",
     "level": 2,
     "metadata": {},
     "source": [
      "try/except"
     ]
    },
    {
     "cell_type": "code",
     "collapsed": false,
     "input": [
      "def fetcher(obj, index):\n",
      "    return obj[index]\n",
      "\n",
      "x = 'spam'\n",
      "fetcher(x,3)"
     ],
     "language": "python",
     "metadata": {},
     "outputs": [],
     "prompt_number": "*"
    },
    {
     "cell_type": "code",
     "collapsed": false,
     "input": [
      "def fetcher(obj, index):\n",
      "    return obj[index]\n",
      "\n",
      "x = 'spam'\n",
      "fetcher(x,4)"
     ],
     "language": "python",
     "metadata": {},
     "outputs": [],
     "prompt_number": "*"
    },
    {
     "cell_type": "code",
     "collapsed": false,
     "input": [
      "def fetcher(obj, index):\n",
      "    return obj[index]\n",
      "\n",
      "x = 'spam'\n",
      "try:\n",
      "    fetcher(x,4)\n",
      "except IndexError:\n",
      "    print 'got exception'"
     ],
     "language": "python",
     "metadata": {},
     "outputs": [],
     "prompt_number": "*"
    },
    {
     "cell_type": "heading",
     "level": 2,
     "metadata": {},
     "source": [
      "try/finally"
     ]
    },
    {
     "cell_type": "code",
     "collapsed": false,
     "input": [
      "def fetcher(obj, index):\n",
      "    return obj[index]\n",
      "\n",
      "x = 'spam'\n",
      "try:\n",
      "    fetcher(x,3)\n",
      "finally:\n",
      "    print 'after fetch'"
     ],
     "language": "python",
     "metadata": {},
     "outputs": [],
     "prompt_number": "*"
    },
    {
     "cell_type": "code",
     "collapsed": false,
     "input": [
      "def fetcher(obj, index):\n",
      "    return obj[index]\n",
      "\n",
      "x = 'spam'\n",
      "def after():\n",
      "    try:\n",
      "        fetcher(x,4)\n",
      "    finally:\n",
      "        print 'after fetch'\n",
      "    print 'after try?'\n",
      "    \n",
      "after()"
     ],
     "language": "python",
     "metadata": {},
     "outputs": [],
     "prompt_number": "*"
    },
    {
     "cell_type": "heading",
     "level": 2,
     "metadata": {},
     "source": [
      "raise "
     ]
    },
    {
     "cell_type": "code",
     "collapsed": false,
     "input": [
      "MyBad = \"oops\"\n",
      "\n",
      "def stuff():\n",
      "    raise Exception(MyBad)\n",
      "    \n",
      "try:\n",
      "    stuff()\n",
      "except MyBad:\n",
      "    print 'got it'"
     ],
     "language": "python",
     "metadata": {},
     "outputs": [],
     "prompt_number": "*"
    },
    {
     "cell_type": "heading",
     "level": 2,
     "metadata": {},
     "source": [
      "assert"
     ]
    },
    {
     "cell_type": "code",
     "collapsed": false,
     "input": [
      "def onlypositive(x):\n",
      "    assert (x > 0),'x must be negative'\n",
      "    print 'x is positive'\n",
      "\n",
      "onlypositive(2)\n",
      "onlypositive(-2)"
     ],
     "language": "python",
     "metadata": {},
     "outputs": [],
     "prompt_number": "*"
    }
   ],
   "metadata": {}
  }
 ]
}