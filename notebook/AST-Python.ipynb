{
 "metadata": {
  "name": ""
 },
 "nbformat": 3,
 "nbformat_minor": 0,
 "worksheets": [
  {
   "cells": [
    {
     "cell_type": "heading",
     "level": 1,
     "metadata": {},
     "source": [
      "Primitive Data Types Examples\n"
     ]
    },
    {
     "cell_type": "code",
     "collapsed": false,
     "input": [
      "#Example of Boolean \n",
      "print bool(True)\n",
      "print bool(\"text\")\n",
      "print bool(0)"
     ],
     "language": "python",
     "metadata": {},
     "outputs": [
      {
       "output_type": "stream",
       "stream": "stdout",
       "text": [
        "True\n",
        "True\n",
        "False\n"
       ]
      }
     ],
     "prompt_number": 2
    },
    {
     "cell_type": "code",
     "collapsed": false,
     "input": [
      "#Example of Float Integer calculations\n",
      "a = 9.8\n",
      "b = 600\n",
      "c = a/b\n",
      "print \"a:\", a, \"b:\", b, \"c:\", c"
     ],
     "language": "python",
     "metadata": {},
     "outputs": [
      {
       "output_type": "stream",
       "stream": "stdout",
       "text": [
        "a: 9.8 b: 600 c: 0.0163333333333\n"
       ]
      }
     ],
     "prompt_number": 7
    },
    {
     "cell_type": "code",
     "collapsed": false,
     "input": [
      "#Example of String Printing styles\n",
      "a = \"Python\"\n",
      "b = 'is '\n",
      "c = \"\"\"\n",
      "E\n",
      "A\n",
      "S\n",
      "Y\n",
      "\"\"\"\n",
      "\n",
      "print a\n",
      "print b\n",
      "print c\n",
      "print b * 5"
     ],
     "language": "python",
     "metadata": {},
     "outputs": [
      {
       "output_type": "stream",
       "stream": "stdout",
       "text": [
        "Python\n",
        "is \n",
        "\n",
        "E\n",
        "A\n",
        "S\n",
        "Y\n",
        "\n",
        "is is is is is \n"
       ]
      }
     ],
     "prompt_number": 14
    },
    {
     "cell_type": "code",
     "collapsed": false,
     "input": [
      "#Example of Tuple\n",
      "first = (1, 2, 3)\n",
      "second = (4, 5, 6)\n",
      "\n",
      "print \"len(first) : \", len(first)\n",
      "print \"max(first) : \", max(first)\n",
      "print \"min(first) : \", min(first)\n",
      "print \"first + second :\", first + second\n",
      "print \"first * 3 : \", first * 3\n",
      "print \"1 in first : \", 1 in first\n",
      "print \"5 not in second : \", 5 not in second\n",
      "print first[1:4]"
     ],
     "language": "python",
     "metadata": {},
     "outputs": [
      {
       "output_type": "stream",
       "stream": "stdout",
       "text": [
        "len(first) :  3\n",
        "max(first) :  3\n",
        "min(first) :  1\n",
        "first + second : (1, 2, 3, 4, 5, 6)\n",
        "first * 3 :  (1, 2, 3, 1, 2, 3, 1, 2, 3)\n",
        "1 in first :  True\n",
        "5 not in second :  False\n",
        "(2, 3)\n"
       ]
      }
     ],
     "prompt_number": 17
    },
    {
     "cell_type": "code",
     "collapsed": false,
     "input": [
      "#Example of List\n",
      "num = [0, 2, 5, 4, 6, 7]\n",
      "\n",
      "print num[0]\n",
      "print num[2:]\n",
      "print len(num)\n",
      "print num + [8, 9]"
     ],
     "language": "python",
     "metadata": {},
     "outputs": [
      {
       "output_type": "stream",
       "stream": "stdout",
       "text": [
        "0\n",
        "[5, 4, 6, 7]\n",
        "6\n",
        "[0, 2, 5, 4, 6, 7, 8, 9]\n"
       ]
      }
     ],
     "prompt_number": 19
    },
    {
     "cell_type": "code",
     "collapsed": false,
     "input": [
      "#Example of Dictionaries\n",
      "words = { 'girl': 'Maedchen', 'house': 'Haus', 'death': 'Tod' }\n",
      "print words['house']\n",
      "print words.keys()\n",
      "print words.values()\n",
      "print words.items()"
     ],
     "language": "python",
     "metadata": {},
     "outputs": [
      {
       "output_type": "stream",
       "stream": "stdout",
       "text": [
        "Haus\n",
        "['house', 'girl', 'death']\n",
        "['Haus', 'Maedchen', 'Tod']\n",
        "[('house', 'Haus'), ('girl', 'Maedchen'), ('death', 'Tod')]\n"
       ]
      }
     ],
     "prompt_number": 20
    },
    {
     "cell_type": "code",
     "collapsed": false,
     "input": [
      "#Interesting Code Snippet on mutable non-mutable data-type\n",
      "def append_to_sequence (myseq):\n",
      "    myseq += (9,9,9)\n",
      "    return myseq\n",
      "\n",
      "t=(1,2,3)     # tuples are immutable\n",
      "l=[1,2,3]     # lists are mutable\n",
      "\n",
      "u=append_to_sequence(t)\n",
      "m=append_to_sequence(l)\n",
      "\n",
      "print('t = ', t)\n",
      "print('u = ', u)\n",
      "print('l = ', l)\n",
      "print('m = ', m)"
     ],
     "language": "python",
     "metadata": {},
     "outputs": [
      {
       "output_type": "stream",
       "stream": "stdout",
       "text": [
        "('t = ', (1, 2, 3))\n",
        "('u = ', (1, 2, 3, 9, 9, 9))\n",
        "('l = ', [1, 2, 3, 9, 9, 9])\n",
        "('m = ', [1, 2, 3, 9, 9, 9])\n"
       ]
      }
     ],
     "prompt_number": 22
    },
    {
     "cell_type": "heading",
     "level": 1,
     "metadata": {},
     "source": [
      "IF, ELIF and ELSE statements  "
     ]
    },
    {
     "cell_type": "code",
     "collapsed": false,
     "input": [
      "# if, elif and else statements\n",
      "x = int(raw_input(\"Please input number : \" ))\n",
      "\n",
      "if x < 0 :\n",
      "    print \"Negative Number\"\n",
      "elif x==0 :    #any number of elif \n",
      "    print 'ZERO'\n",
      "else :         #(optional)\n",
      "    print 'Positive Number'\n",
      "    \n"
     ],
     "language": "python",
     "metadata": {},
     "outputs": [
      {
       "name": "stdout",
       "output_type": "stream",
       "stream": "stdout",
       "text": [
        "Please input number : 6768\n"
       ]
      },
      {
       "output_type": "stream",
       "stream": "stdout",
       "text": [
        "Positive Number\n"
       ]
      }
     ],
     "prompt_number": 1
    },
    {
     "cell_type": "heading",
     "level": 1,
     "metadata": {},
     "source": [
      "For LOOP"
     ]
    },
    {
     "cell_type": "code",
     "collapsed": false,
     "input": [
      "#For loop with range()\n",
      "for i in range(3) : \n",
      "    print i\n",
      "#range() iterator\n",
      "print range(1,5)"
     ],
     "language": "python",
     "metadata": {},
     "outputs": [],
     "prompt_number": "*"
    },
    {
     "cell_type": "heading",
     "level": 1,
     "metadata": {},
     "source": [
      "While Loop"
     ]
    },
    {
     "cell_type": "code",
     "collapsed": false,
     "input": [
      "#while loop\n",
      "while (x < 3): \n",
      "    print x\n",
      "    x = x+1    "
     ],
     "language": "python",
     "metadata": {},
     "outputs": [],
     "prompt_number": 8
    },
    {
     "cell_type": "heading",
     "level": 1,
     "metadata": {},
     "source": [
      "Pass, Continue and Break"
     ]
    },
    {
     "cell_type": "code",
     "collapsed": false,
     "input": [
      "#pass, continue and break\n",
      "for x in range(16) :\n",
      "    if (x == 5):\n",
      "        pass\n",
      "    elif (x==10):\n",
      "        print x\n",
      "        continue\n",
      "    elif (x == 12):\n",
      "        print x\n",
      "        break"
     ],
     "language": "python",
     "metadata": {},
     "outputs": [
      {
       "output_type": "stream",
       "stream": "stdout",
       "text": [
        "10\n",
        "12\n"
       ]
      }
     ],
     "prompt_number": 10
    }
   ],
   "metadata": {}
  }
 ]
}