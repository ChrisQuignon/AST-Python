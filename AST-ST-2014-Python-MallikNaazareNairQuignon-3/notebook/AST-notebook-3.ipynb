{
 "metadata": {
  "name": ""
 },
 "nbformat": 3,
 "nbformat_minor": 0,
 "worksheets": [
  {
   "cells": [
    {
     "cell_type": "heading",
     "level": 1,
     "metadata": {},
     "source": [
      "Threads"
     ]
    },
    {
     "cell_type": "markdown",
     "metadata": {},
     "source": [
      "from http://en.wikibooks.org/wiki/Python_Programming/Threadingfrom "
     ]
    },
    {
     "cell_type": "code",
     "collapsed": false,
     "input": [
      "import threading\n",
      "import time\n",
      "\n",
      "class MyThread(threading.Thread):\n",
      "    def run(self):\n",
      "        print self.getName(), 'started.'       # \"Thread-x started!\"\n",
      "        time.sleep(1)                          # Pretend to work for a second\n",
      "        print self.getName(), 'finished.'      # \"Thread-x finished!\"\n",
      " \n",
      "for x in range(4):                                         # Four times...\n",
      "    mythread = MyThread(name = ('Thread ' + str(x)))       # ...Instantiate a thread and pass a unique ID to it\n",
      "    mythread.start()                                       # ...Start the thread\n",
      "    time.sleep(.9)                                         # ...Wait 0.9 seconds before starting another"
     ],
     "language": "python",
     "metadata": {},
     "outputs": [
      {
       "output_type": "stream",
       "stream": "stdout",
       "text": [
        "Thread 0 started.\n",
        "Thread 1 started.\n",
        "Thread 0 finished.\n",
        "Thread 2 started.\n",
        "Thread 1 finished.\n",
        "Thread 3 started.\n",
        "Thread 2 finished.\n"
       ]
      }
     ],
     "prompt_number": 2
    },
    {
     "cell_type": "code",
     "collapsed": false,
     "input": [
      "count = 0\n",
      "\n",
      "def adder():\n",
      "    global count\n",
      "    count = count + 1\n",
      "    count = count + 1\n",
      "\n",
      "runtime = time.time()\n",
      "for i in range(100):\n",
      "        thread.start_new(adder, ())\n",
      "print 'Threadded addition time:', (time.time() - runtime)\n",
      "print 'sums up to: ', count\n",
      "time.sleep(2)\n",
      "print 'Ok, actually: ', count\n",
      "\n",
      "count = 0\n",
      "runtime = time.time()\n",
      "for i in range(100):\n",
      "        adder()\n",
      "print 'Regular addition time', (time.time() - runtime)\n",
      "print 'Sums up to: ', count"
     ],
     "language": "python",
     "metadata": {},
     "outputs": [
      {
       "output_type": "stream",
       "stream": "stdout",
       "text": [
        "Threadded addition time: 0.00413203239441\n",
        "sums up to:  194\n",
        "Ok, actually: "
       ]
      },
      {
       "output_type": "stream",
       "stream": "stdout",
       "text": [
        " 200\n",
        "regular addition time 0.000921010971069\n",
        "Sums up to:  200\n"
       ]
      }
     ],
     "prompt_number": 25
    },
    {
     "cell_type": "heading",
     "level": 1,
     "metadata": {},
     "source": [
      "Processes"
     ]
    },
    {
     "cell_type": "markdown",
     "metadata": {},
     "source": [
      "Inspired by http://www.cs.colorado.edu/~kena/classes/5828/s10/presentations/ali_alzabarah_se_presentati.pdf"
     ]
    },
    {
     "cell_type": "code",
     "collapsed": false,
     "input": [
      "from multiprocessing import Process, Pool\n",
      "import time\n",
      "import glob\n",
      "\n",
      "def function(n):\n",
      "    return [[len(z),z] for z in n]\n",
      "\n",
      "#SETUP\n",
      "strips = list()\n",
      "files = glob.glob('./txtfiles/*.txt')\n",
      "for filename in files:\n",
      "\tbigfile=open(filename, 'r')\n",
      "\tline=bigfile.readlines()\n",
      "\tbigfile.close()\n",
      "\tfor word in line:\n",
      "\t\tstrips.append(word.strip())\n",
      "print 'Processing ', len(strips), 'words takes :'\n",
      "pool = Pool(processes=8)"
     ],
     "language": "python",
     "metadata": {},
     "outputs": [
      {
       "output_type": "stream",
       "stream": "stdout",
       "text": [
        "Processing  580012 words takes :\n"
       ]
      }
     ],
     "prompt_number": 6
    },
    {
     "cell_type": "code",
     "collapsed": false,
     "input": [
      "runtime = time.time()\n",
      "for strip in strips:\n",
      "\tfunction(strip)\n",
      "print (time.time() - runtime), 'ms with bad serialisation'"
     ],
     "language": "python",
     "metadata": {},
     "outputs": [
      {
       "output_type": "stream",
       "stream": "stdout",
       "text": [
        "9.60975599289 ms with bad serialisation\n"
       ]
      }
     ],
     "prompt_number": 15
    },
    {
     "cell_type": "code",
     "collapsed": false,
     "input": [
      "runtime = time.time()\n",
      "map(function, [strips])\n",
      "print (time.time() - runtime), 'ms with internal optimization'"
     ],
     "language": "python",
     "metadata": {},
     "outputs": [
      {
       "output_type": "stream",
       "stream": "stdout",
       "text": [
        "0.782707214355 ms with internal optimization\n"
       ]
      }
     ],
     "prompt_number": 16
    },
    {
     "cell_type": "code",
     "collapsed": false,
     "input": [
      "runtime = time.time()\n",
      "result = pool.apply_async(function, [strips])\n",
      "print (time.time() - runtime), 'ms in parallel'"
     ],
     "language": "python",
     "metadata": {},
     "outputs": [
      {
       "output_type": "stream",
       "stream": "stdout",
       "text": [
        "0.51534485817 ms in parallel\n"
       ]
      }
     ],
     "prompt_number": 17
    },
    {
     "cell_type": "heading",
     "level": 1,
     "metadata": {},
     "source": [
      "Sharing Information Between Threads"
     ]
    },
    {
     "cell_type": "code",
     "collapsed": false,
     "input": [],
     "language": "python",
     "metadata": {},
     "outputs": []
    },
    {
     "cell_type": "heading",
     "level": 1,
     "metadata": {},
     "source": [
      "Thread Communication And Synchronization"
     ]
    },
    {
     "cell_type": "code",
     "collapsed": false,
     "input": [],
     "language": "python",
     "metadata": {},
     "outputs": []
    },
    {
     "cell_type": "heading",
     "level": 1,
     "metadata": {},
     "source": [
      "Inter-process Communication"
     ]
    },
    {
     "cell_type": "code",
     "collapsed": false,
     "input": [],
     "language": "python",
     "metadata": {},
     "outputs": []
    },
    {
     "cell_type": "heading",
     "level": 1,
     "metadata": {},
     "source": [
      "Networking"
     ]
    },
    {
     "cell_type": "code",
     "collapsed": false,
     "input": [],
     "language": "python",
     "metadata": {},
     "outputs": []
    }
   ],
   "metadata": {}
  }
 ]
}